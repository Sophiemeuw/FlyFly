{
 "cells": [
  {
   "cell_type": "code",
   "execution_count": 1,
   "metadata": {},
   "outputs": [
    {
     "name": "stderr",
     "output_type": "stream",
     "text": [
      " 86%|████████▌ | 25826/30000 [01:20<00:13, 319.23it/s]\n"
     ]
    },
    {
     "name": "stdout",
     "output_type": "stream",
     "text": [
      "Homing done, quitting simulation.\n",
      "Available keys in obs: ['joints', 'end_effectors', 'contact_forces', 'heading', 'velocity', 'fly', 'odor_intensity', 'vision', 'vision_updated', 'reached_odour']\n"
     ]
    }
   ],
   "source": [
    "%reload_ext autoreload\n",
    "%autoreload 2\n",
    "\n",
    "from pathlib import Path\n",
    "from submission import Controller\n",
    "from cobar_miniproject.cobar_fly import CobarFly\n",
    "from cobar_miniproject import levels\n",
    "from flygym import SingleFlySimulation, Camera\n",
    "from tqdm import trange\n",
    "\n",
    "\n",
    "\n",
    "\n",
    "timestep = 1e-4\n",
    "debug = True\n",
    "level = 0\n",
    "seed = 45\n",
    "\n",
    "fly = CobarFly(\n",
    "    debug=debug,\n",
    "    enable_vision=True,\n",
    "    render_raw_vision=False,\n",
    ")\n",
    "\n",
    "if level <= 1:\n",
    "    arena = levels[level](fly=fly, seed=seed)\n",
    "else:\n",
    "    arena = levels[level](fly=fly, timestep=timestep, seed=seed)\n",
    "\n",
    "cam_params = {\"pos\": (0, 0, 80)}\n",
    "timestep = 1e-4\n",
    "\n",
    "cam = Camera(\n",
    "    attachment_point=arena.root_element.worldbody,\n",
    "    camera_name=\"camera_top_zoomout\",\n",
    "    targeted_fly_names=[fly.name],\n",
    "    camera_parameters=cam_params,\n",
    "    play_speed=0.2,\n",
    ")\n",
    "\n",
    "sim = SingleFlySimulation(\n",
    "    fly=fly,\n",
    "    cameras=[cam],\n",
    "    timestep=timestep,\n",
    "    arena=arena,\n",
    ")\n",
    "\n",
    "controller = Controller(timestep=timestep)\n",
    "\n",
    "# run cpg simulation\n",
    "obs, info = sim.reset()\n",
    "obs_hist = []\n",
    "info_hist = []\n",
    "\n",
    "max_steps = 30000\n",
    "\n",
    "for i in trange(max_steps):\n",
    "    # Get observations\n",
    "    obs, reward, terminated, truncated, info = sim.step(controller.get_actions(obs))\n",
    "    sim.render()\n",
    "    if controller.done_level(obs):\n",
    "        # finish the path integration level\n",
    "        break\n",
    "\n",
    "    #if not obs[\"vision_updated\"]:\n",
    "    #if \"vision\" in obs:\n",
    "    #    del obs[\"vision\"]\n",
    "    #if \"raw_vision\" in obs:\n",
    "    #    del obs[\"raw_vision\"]\n",
    "    obs_hist.append(obs)\n",
    "    info_hist.append(info)\n",
    "\n",
    "\n",
    "    if hasattr(controller, \"quit\") and controller.quit:\n",
    "        print(\"Simulation terminated by user.\")\n",
    "        break\n",
    "    if hasattr(arena, \"quit\") and arena.quit:\n",
    "        print(\"Target reached. Simulation terminated.\")\n",
    "        break\n",
    "\n",
    "print(f\"Available keys in obs: {list(obs.keys())}\")\n",
    "\n",
    "\n",
    "# Save video\n",
    "save_path = Path(\"outputs\") / f\"level{level}_seed{seed}.mp4\"\n",
    "save_path.parent.mkdir(parents=True, exist_ok=True)\n",
    "cam.save_video(save_path, stabilization_time=0)"
   ]
  },
  {
   "cell_type": "code",
   "execution_count": 2,
   "metadata": {},
   "outputs": [
    {
     "ename": "AttributeError",
     "evalue": "'Controller' object has no attribute 'position_trace'",
     "output_type": "error",
     "traceback": [
      "\u001b[1;31m---------------------------------------------------------------------------\u001b[0m",
      "\u001b[1;31mAttributeError\u001b[0m                            Traceback (most recent call last)",
      "Cell \u001b[1;32mIn[2], line 5\u001b[0m\n\u001b[0;32m      2\u001b[0m \u001b[38;5;28;01mimport\u001b[39;00m\u001b[38;5;250m \u001b[39m\u001b[38;5;21;01mnumpy\u001b[39;00m\u001b[38;5;250m \u001b[39m\u001b[38;5;28;01mas\u001b[39;00m\u001b[38;5;250m \u001b[39m\u001b[38;5;21;01mnp\u001b[39;00m\n\u001b[0;32m      4\u001b[0m \u001b[38;5;66;03m# Build time vector from controller trace length\u001b[39;00m\n\u001b[1;32m----> 5\u001b[0m times \u001b[38;5;241m=\u001b[39m np\u001b[38;5;241m.\u001b[39marange(\u001b[38;5;28mlen\u001b[39m(\u001b[43mcontroller\u001b[49m\u001b[38;5;241;43m.\u001b[39;49m\u001b[43mposition_trace\u001b[49m)) \u001b[38;5;241m*\u001b[39m controller\u001b[38;5;241m.\u001b[39mtimestep\n\u001b[0;32m      7\u001b[0m \u001b[38;5;66;03m# Extract estimated X positions\u001b[39;00m\n\u001b[0;32m      8\u001b[0m estimated \u001b[38;5;241m=\u001b[39m np\u001b[38;5;241m.\u001b[39marray(controller\u001b[38;5;241m.\u001b[39mposition_trace)  \u001b[38;5;66;03m# shape (N,2)\u001b[39;00m\n",
      "\u001b[1;31mAttributeError\u001b[0m: 'Controller' object has no attribute 'position_trace'"
     ]
    }
   ],
   "source": [
    "import matplotlib.pyplot as plt\n",
    "import numpy as np\n",
    "\n",
    "# Build time vector from controller trace length\n",
    "times = np.arange(len(controller.position_trace)) * controller.timestep\n",
    "\n",
    "# Extract estimated X positions\n",
    "estimated = np.array(controller.position_trace)  # shape (N,2)\n",
    "est_x = estimated[:, 0]\n",
    "\n",
    "# Extract true X positions from obs_hist\n",
    "true_x = []\n",
    "for obs in obs_hist:\n",
    "    # obs['fly'][0] is [x,y,z]\n",
    "    pos = obs.get('fly', [[None, None, None]])[0]\n",
    "    true_x.append(pos[0])\n",
    "true_x = np.array(true_x)\n",
    "\n",
    "# Ensure matching lengths\n",
    "min_len = min(len(times), len(true_x))\n",
    "times = times[:min_len]\n",
    "est_x = est_x[:min_len]\n",
    "true_x = true_x[:min_len]\n",
    "\n",
    "# Plot\n",
    "plt.figure(figsize=(8, 4))\n",
    "plt.plot(times, true_x, label='True X', color='black', linewidth=2)\n",
    "plt.plot(times, est_x, label='Estimated X', color='red', linestyle='--', linewidth=1.5)\n",
    "plt.xlabel('Time (s)')\n",
    "plt.ylabel('X Position (mm)')\n",
    "plt.title('True vs Estimated X Trajectory Over Time')\n",
    "plt.legend()\n",
    "plt.grid(True)\n",
    "plt.tight_layout()\n",
    "plt.show()\n"
   ]
  },
  {
   "cell_type": "code",
   "execution_count": null,
   "metadata": {},
   "outputs": [
    {
     "ename": "AttributeError",
     "evalue": "'Controller' object has no attribute 'position_trace'",
     "output_type": "error",
     "traceback": [
      "\u001b[1;31m---------------------------------------------------------------------------\u001b[0m",
      "\u001b[1;31mAttributeError\u001b[0m                            Traceback (most recent call last)",
      "Cell \u001b[1;32mIn[6], line 5\u001b[0m\n\u001b[0;32m      2\u001b[0m \u001b[38;5;28;01mimport\u001b[39;00m\u001b[38;5;250m \u001b[39m\u001b[38;5;21;01mnumpy\u001b[39;00m\u001b[38;5;250m \u001b[39m\u001b[38;5;28;01mas\u001b[39;00m\u001b[38;5;250m \u001b[39m\u001b[38;5;21;01mnp\u001b[39;00m\n\u001b[0;32m      4\u001b[0m \u001b[38;5;66;03m# Build time vector from controller trace length\u001b[39;00m\n\u001b[1;32m----> 5\u001b[0m times \u001b[38;5;241m=\u001b[39m np\u001b[38;5;241m.\u001b[39marange(\u001b[38;5;28mlen\u001b[39m(\u001b[43mcontroller\u001b[49m\u001b[38;5;241;43m.\u001b[39;49m\u001b[43mposition_trace\u001b[49m)) \u001b[38;5;241m*\u001b[39m controller\u001b[38;5;241m.\u001b[39mtimestep\n\u001b[0;32m      7\u001b[0m \u001b[38;5;66;03m# Extract estimated X positions\u001b[39;00m\n\u001b[0;32m      8\u001b[0m estimated \u001b[38;5;241m=\u001b[39m np\u001b[38;5;241m.\u001b[39marray(controller\u001b[38;5;241m.\u001b[39mposition_trace)  \u001b[38;5;66;03m# shape (N,2)\u001b[39;00m\n",
      "\u001b[1;31mAttributeError\u001b[0m: 'Controller' object has no attribute 'position_trace'"
     ]
    }
   ],
   "source": [
    "import matplotlib.pyplot as plt\n",
    "import numpy as np\n",
    "\n",
    "# Build time vector from controller trace length\n",
    "times = np.arange(len(controller.position_trace)) * controller.timestep\n",
    "\n",
    "# Extract estimated X positions\n",
    "estimated = np.array(controller.position_trace)  # shape (N,2)\n",
    "est_y = estimated[:, 1]\n",
    "\n",
    "# Extract true X positions from obs_hist\n",
    "true_y = []\n",
    "for obs in obs_hist:\n",
    "    # obs['fly'][0] is [x,y,z]\n",
    "    pos = obs.get('fly', [[None, None, None]])[0]\n",
    "    true_y.append(pos[1])\n",
    "true_y = np.array(true_y)\n",
    "\n",
    "# Ensure matching lengths\n",
    "min_len = min(len(times), len(true_y))\n",
    "times = times[:min_len]\n",
    "est_y = est_y[:min_len]\n",
    "true_y = true_y[:min_len]\n",
    "\n",
    "# Plot\n",
    "plt.figure(figsize=(8, 4))\n",
    "plt.plot(times, true_y, label='True Y', color='black', linewidth=2)\n",
    "plt.plot(times, est_y, label='Estimated Y', color='red', linestyle='--', linewidth=1.5)\n",
    "plt.xlabel('Time (s)')\n",
    "plt.ylabel('Y Position (mm)')\n",
    "plt.title('True vs Estimated Y Trajectory Over Time')\n",
    "plt.legend()\n",
    "plt.grid(True)\n",
    "plt.tight_layout()\n",
    "plt.show()\n"
   ]
  },
  {
   "cell_type": "code",
   "execution_count": null,
   "metadata": {},
   "outputs": [
    {
     "ename": "AttributeError",
     "evalue": "'Controller' object has no attribute 'position_trace'",
     "output_type": "error",
     "traceback": [
      "\u001b[1;31m---------------------------------------------------------------------------\u001b[0m",
      "\u001b[1;31mAttributeError\u001b[0m                            Traceback (most recent call last)",
      "Cell \u001b[1;32mIn[5], line 5\u001b[0m\n\u001b[0;32m      2\u001b[0m \u001b[38;5;28;01mimport\u001b[39;00m\u001b[38;5;250m \u001b[39m\u001b[38;5;21;01mnumpy\u001b[39;00m\u001b[38;5;250m \u001b[39m\u001b[38;5;28;01mas\u001b[39;00m\u001b[38;5;250m \u001b[39m\u001b[38;5;21;01mnp\u001b[39;00m\n\u001b[0;32m      4\u001b[0m \u001b[38;5;66;03m# Estimated trajectory\u001b[39;00m\n\u001b[1;32m----> 5\u001b[0m estimated \u001b[38;5;241m=\u001b[39m np\u001b[38;5;241m.\u001b[39marray(\u001b[43mcontroller\u001b[49m\u001b[38;5;241;43m.\u001b[39;49m\u001b[43mposition_trace\u001b[49m)\n\u001b[0;32m      7\u001b[0m \u001b[38;5;66;03m# True trajectory: extract first row from obs[\"fly\"] (x, y, z), keep only x and y\u001b[39;00m\n\u001b[0;32m      8\u001b[0m true_points \u001b[38;5;241m=\u001b[39m []\n",
      "\u001b[1;31mAttributeError\u001b[0m: 'Controller' object has no attribute 'position_trace'"
     ]
    }
   ],
   "source": [
    "import matplotlib.pyplot as plt\n",
    "import numpy as np\n",
    "\n",
    "# Estimated trajectory\n",
    "estimated = np.array(controller.position_trace)\n",
    "\n",
    "# True trajectory: extract first row from obs[\"fly\"] (x, y, z), keep only x and y\n",
    "true_points = []\n",
    "for obs in obs_hist:\n",
    "    try:\n",
    "        if \"fly\" in obs:\n",
    "            pos = obs[\"fly\"][0]  # First row: position\n",
    "            if isinstance(pos, (list, tuple, np.ndarray)) and len(pos) >= 2:\n",
    "                true_points.append([pos[0], pos[1]])\n",
    "    except Exception:\n",
    "        continue\n",
    "\n",
    "true = np.array(true_points)\n",
    "\n",
    "# Plot\n",
    "plt.figure(figsize=(8, 6))\n",
    "if len(true) > 0:\n",
    "    plt.plot(true[:, 0], true[:, 1], label=\"True trajectory\", color=\"black\", linewidth=2)\n",
    "if len(estimated) > 0:\n",
    "    plt.plot(estimated[:, 0], estimated[:, 1], label=\"Estimated trajectory\", color=\"red\", linestyle=\"--\", linewidth=1.5)\n",
    "\n",
    "\n",
    "\n",
    "\n",
    "\n",
    "\n",
    "plt.xlabel(\"X position (mm)\")\n",
    "plt.ylabel(\"Y position (mm)\")\n",
    "plt.title(\"Fly Trajectory: Estimated vs. True\")\n",
    "plt.legend()\n",
    "plt.grid(True)\n",
    "plt.axis(\"equal\")\n",
    "plt.show()\n"
   ]
  },
  {
   "cell_type": "markdown",
   "metadata": {},
   "source": [
    "Plot x et y enb fct du temps "
   ]
  },
  {
   "cell_type": "code",
   "execution_count": null,
   "metadata": {},
   "outputs": [
    {
     "name": "stdout",
     "output_type": "stream",
     "text": [
      "[[0.00115301 0.00114451 0.00118006 0.00117751]\n",
      " [0.         0.         0.         0.        ]]\n"
     ]
    },
    {
     "data": {
      "text/plain": [
       "[<matplotlib.lines.Line2D at 0x15063f52630>]"
      ]
     },
     "execution_count": 20,
     "metadata": {},
     "output_type": "execute_result"
    },
    {
     "data": {
      "image/png": "[encoded data removed]",
      "text/plain": [
       "<Figure size 640x480 with 1 Axes>"
      ]
     },
     "metadata": {},
     "output_type": "display_data"
    }
   ],
   "source": [
    "#plot of the odor intensity \n",
    "import matplotlib.pyplot as plt\n",
    "import numpy as np\n",
    "\n",
    "print(obs_hist[0][\"odor_intensity\"])    \n",
    "\n",
    "\n",
    "     \n",
    "odor_left = [((obs[\"odor_intensity\"][0][0] + obs[\"odor_intensity\"][0][2]))/2 for obs in obs_hist]\n",
    "odor_right = [((obs[\"odor_intensity\"][0][1] + obs[\"odor_intensity\"][0][3]))/2 for obs in obs_hist]\n",
    "\n",
    "plt.plot(odor_left, label=\"Left Odor Intensity\")\n",
    "plt.plot(odor_right, label=\"Right Odor Intensity\")\n"
   ]
  }
 ],
 "metadata": {
  "kernelspec": {
   "display_name": "flygym",
   "language": "python",
   "name": "python3"
  },
  "language_info": {
   "codemirror_mode": {
    "name": "ipython",
    "version": 3
   },
   "file_extension": ".py",
   "mimetype": "text/x-python",
   "name": "python",
   "nbconvert_exporter": "python",
   "pygments_lexer": "ipython3",
   "version": "3.12.9"
  }
 },
 "nbformat": 4,
 "nbformat_minor": 2
}
