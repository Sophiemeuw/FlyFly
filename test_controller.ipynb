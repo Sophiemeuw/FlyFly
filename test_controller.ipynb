{
 "cells": [
  {
   "cell_type": "code",
   "execution_count": 1,
   "metadata": {},
   "outputs": [
    {
     "name": "stderr",
     "output_type": "stream",
     "text": [
      " 68%|██████▊   | 13669/20000 [00:43<00:20, 316.36it/s]\n"
     ]
    },
    {
     "name": "stdout",
     "output_type": "stream",
     "text": [
      "Target reached. Simulation terminated.\n"
     ]
    }
   ],
   "source": [
    "from pathlib import Path\n",
    "from submission import Controller\n",
    "from cobar_miniproject.cobar_fly import CobarFly\n",
    "from cobar_miniproject import levels\n",
    "from flygym import SingleFlySimulation, Camera\n",
    "from tqdm import trange\n",
    "\n",
    "timestep = 1e-4\n",
    "debug = False\n",
    "level = 1\n",
    "seed = 2\n",
    "\n",
    "fly = CobarFly(\n",
    "    debug=debug,\n",
    "    enable_vision=True,\n",
    "    render_raw_vision=False,\n",
    ")\n",
    "\n",
    "if level <= 1:\n",
    "    arena = levels[level](fly=fly, seed=seed)\n",
    "else:\n",
    "    arena = levels[level](fly=fly, timestep=timestep, seed=seed)\n",
    "\n",
    "cam_params = {\"pos\": (0, 0, 80)}\n",
    "timestep = 1e-4\n",
    "\n",
    "cam = Camera(\n",
    "    attachment_point=arena.root_element.worldbody,\n",
    "    camera_name=\"camera_top_zoomout\",\n",
    "    targeted_fly_names=[fly.name],\n",
    "    camera_parameters=cam_params,\n",
    "    play_speed=0.2,\n",
    ")\n",
    "\n",
    "sim = SingleFlySimulation(\n",
    "    fly=fly,\n",
    "    cameras=[cam],\n",
    "    timestep=timestep,\n",
    "    arena=arena,\n",
    ")\n",
    "\n",
    "controller = Controller(timestep=timestep)\n",
    "\n",
    "# run cpg simulation\n",
    "obs, info = sim.reset()\n",
    "obs_hist = []\n",
    "info_hist = []\n",
    "\n",
    "max_steps = 20000\n",
    "\n",
    "for i in trange(max_steps):\n",
    "    # Get observations\n",
    "    obs, reward, terminated, truncated, info = sim.step(controller.get_actions(obs))\n",
    "    sim.render()\n",
    "    if controller.done_level(obs):\n",
    "        # finish the path integration level\n",
    "        break\n",
    "\n",
    "    #if not obs[\"vision_updated\"]:\n",
    "    #if \"vision\" in obs:\n",
    "    #    del obs[\"vision\"]\n",
    "    #if \"raw_vision\" in obs:\n",
    "    #    del obs[\"raw_vision\"]\n",
    "    obs_hist.append(obs)\n",
    "    info_hist.append(info)\n",
    "\n",
    "    if hasattr(controller, \"quit\") and controller.quit:\n",
    "        print(\"Simulation terminated by user.\")\n",
    "        break\n",
    "    if hasattr(arena, \"quit\") and arena.quit:\n",
    "        print(\"Target reached. Simulation terminated.\")\n",
    "        break\n",
    "\n",
    "# Save video\n",
    "save_path = Path(\"outputs\") / f\"level{level}_seed{seed}.mp4\"\n",
    "save_path.parent.mkdir(parents=True, exist_ok=True)\n",
    "cam.save_video(save_path, stabilization_time=0)"
   ]
  },
  {
   "cell_type": "code",
   "execution_count": 2,
   "metadata": {},
   "outputs": [
    {
     "name": "stdout",
     "output_type": "stream",
     "text": [
      "[[0.00113961 0.00118526 0.00116354 0.00117675]\n",
      " [0.         0.         0.         0.        ]]\n"
     ]
    },
    {
     "data": {
      "text/plain": [
       "[<matplotlib.lines.Line2D at 0x202fdca8d40>]"
      ]
     },
     "execution_count": 2,
     "metadata": {},
     "output_type": "execute_result"
    },
    {
     "data": {
      "image/png": "[encoded data removed]",
      "text/plain": [
       "<Figure size 640x480 with 1 Axes>"
      ]
     },
     "metadata": {},
     "output_type": "display_data"
    }
   ],
   "source": [
    "#plot of the odor intensity \n",
    "import matplotlib.pyplot as plt\n",
    "import numpy as np\n",
    "\n",
    "print(obs_hist[0][\"odor_intensity\"])    \n",
    "\n",
    "\n",
    "     \n",
    "odor_left = [((obs[\"odor_intensity\"][0][0] + obs[\"odor_intensity\"][0][2]))/2 for obs in obs_hist]\n",
    "odor_right = [((obs[\"odor_intensity\"][0][1] + obs[\"odor_intensity\"][0][3]))/2 for obs in obs_hist]\n",
    "\n",
    "plt.plot(odor_left, label=\"Left Odor Intensity\")\n",
    "plt.plot(odor_right, label=\"Right Odor Intensity\")\n"
   ]
  }
 ],
 "metadata": {
  "kernelspec": {
   "display_name": "flygym",
   "language": "python",
   "name": "python3"
  },
  "language_info": {
   "codemirror_mode": {
    "name": "ipython",
    "version": 3
   },
   "file_extension": ".py",
   "mimetype": "text/x-python",
   "name": "python",
   "nbconvert_exporter": "python",
   "pygments_lexer": "ipython3",
   "version": "3.12.9"
  }
 },
 "nbformat": 4,
 "nbformat_minor": 2
}
