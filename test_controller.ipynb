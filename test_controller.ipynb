{
 "cells": [
  {
   "cell_type": "code",
   "execution_count": 1,
   "metadata": {},
   "outputs": [
    {
     "name": "stderr",
     "output_type": "stream",
     "text": [
      "  0%|          | 0/3000 [00:00<?, ?it/s]\n"
     ]
    },
    {
     "ename": "KeyError",
     "evalue": "'vision'",
     "output_type": "error",
     "traceback": [
      "\u001b[1;31m---------------------------------------------------------------------------\u001b[0m",
      "\u001b[1;31mKeyError\u001b[0m                                  Traceback (most recent call last)",
      "Cell \u001b[1;32mIn[1], line 53\u001b[0m\n\u001b[0;32m     49\u001b[0m max_steps \u001b[38;5;241m=\u001b[39m \u001b[38;5;241m3000\u001b[39m\n\u001b[0;32m     51\u001b[0m \u001b[38;5;28;01mfor\u001b[39;00m i \u001b[38;5;129;01min\u001b[39;00m trange(max_steps):\n\u001b[0;32m     52\u001b[0m     \u001b[38;5;66;03m# Get observations\u001b[39;00m\n\u001b[1;32m---> 53\u001b[0m     obs, reward, terminated, truncated, info \u001b[38;5;241m=\u001b[39m sim\u001b[38;5;241m.\u001b[39mstep(\u001b[43mcontroller\u001b[49m\u001b[38;5;241;43m.\u001b[39;49m\u001b[43mget_actions\u001b[49m\u001b[43m(\u001b[49m\u001b[43mobs\u001b[49m\u001b[43m)\u001b[49m)\n\u001b[0;32m     54\u001b[0m     sim\u001b[38;5;241m.\u001b[39mrender()\n\u001b[0;32m     55\u001b[0m     \u001b[38;5;28;01mif\u001b[39;00m controller\u001b[38;5;241m.\u001b[39mdone_level(obs):\n\u001b[0;32m     56\u001b[0m         \u001b[38;5;66;03m# finish the path integration level\u001b[39;00m\n",
      "File \u001b[1;32mc:\\Users\\sophi\\FlyFly\\submission\\controller.py:113\u001b[0m, in \u001b[0;36mController.get_actions\u001b[1;34m(self, obs)\u001b[0m\n\u001b[0;32m    111\u001b[0m odor_taxis_command \u001b[38;5;241m=\u001b[39m \u001b[38;5;28mself\u001b[39m\u001b[38;5;241m.\u001b[39mget_odor_taxis(obs)\n\u001b[0;32m    112\u001b[0m \u001b[38;5;66;03m#get the pillar avoidance command\u001b[39;00m\n\u001b[1;32m--> 113\u001b[0m pillar_avoidance_command \u001b[38;5;241m=\u001b[39m \u001b[38;5;28;43mself\u001b[39;49m\u001b[38;5;241;43m.\u001b[39;49m\u001b[43mpillar_avoidance\u001b[49m\u001b[43m(\u001b[49m\u001b[43mobs\u001b[49m\u001b[43m,\u001b[49m\u001b[43m \u001b[49m\u001b[43modor_taxis_command\u001b[49m\u001b[43m)\u001b[49m\n\u001b[0;32m    116\u001b[0m action\u001b[38;5;241m=\u001b[39mnp\u001b[38;5;241m.\u001b[39marray([\n\u001b[0;32m    117\u001b[0m     odor_taxis_command\u001b[38;5;241m.\u001b[39mleft_descending_signal,\n\u001b[0;32m    118\u001b[0m     odor_taxis_command\u001b[38;5;241m.\u001b[39mright_descending_signal,\n\u001b[0;32m    119\u001b[0m     pillar_avoidance_command\u001b[38;5;241m.\u001b[39mleft_descending_signal,\n\u001b[0;32m    120\u001b[0m     pillar_avoidance_command\u001b[38;5;241m.\u001b[39mright_descending_signal,\n\u001b[0;32m    121\u001b[0m ])\n\u001b[0;32m    123\u001b[0m joint_angles, adhesion \u001b[38;5;241m=\u001b[39m step_cpg(\n\u001b[0;32m    124\u001b[0m     cpg_network\u001b[38;5;241m=\u001b[39m\u001b[38;5;28mself\u001b[39m\u001b[38;5;241m.\u001b[39mcpg_network,\n\u001b[0;32m    125\u001b[0m     preprogrammed_steps\u001b[38;5;241m=\u001b[39m\u001b[38;5;28mself\u001b[39m\u001b[38;5;241m.\u001b[39mpreprogrammed_steps,\n\u001b[0;32m    126\u001b[0m     action\u001b[38;5;241m=\u001b[39maction,\n\u001b[0;32m    127\u001b[0m )\n",
      "File \u001b[1;32mc:\\Users\\sophi\\FlyFly\\submission\\controller.py:53\u001b[0m, in \u001b[0;36mController.pillar_avoidance\u001b[1;34m(self, obs, odor_taxis_command)\u001b[0m\n\u001b[0;32m     49\u001b[0m \u001b[38;5;28;01mdef\u001b[39;00m \u001b[38;5;21mpillar_avoidance\u001b[39m(\u001b[38;5;28mself\u001b[39m, obs: Observation, odor_taxis_command: CommandWithImportance) \u001b[38;5;241m-\u001b[39m\u001b[38;5;241m>\u001b[39m CommandWithImportance:\n\u001b[0;32m     50\u001b[0m \u001b[38;5;250m    \u001b[39m\u001b[38;5;124;03m\"\"\"\u001b[39;00m\n\u001b[0;32m     51\u001b[0m \u001b[38;5;124;03m    Detect obstacles using panoramic vision and adjust turning to avoid dark (close) objects.\u001b[39;00m\n\u001b[0;32m     52\u001b[0m \u001b[38;5;124;03m    \"\"\"\u001b[39;00m\n\u001b[1;32m---> 53\u001b[0m     vision \u001b[38;5;241m=\u001b[39m \u001b[43mobs\u001b[49m\u001b[43m[\u001b[49m\u001b[38;5;124;43m\"\u001b[39;49m\u001b[38;5;124;43mvision\u001b[39;49m\u001b[38;5;124;43m\"\u001b[39;49m\u001b[43m]\u001b[49m  \u001b[38;5;66;03m# shape: (2, 721, 2)\u001b[39;00m\n\u001b[0;32m     54\u001b[0m     \u001b[38;5;66;03m# Average across yellow/pale channels → shape: (2, 721)\u001b[39;00m\n\u001b[0;32m     55\u001b[0m     brightness_per_eye \u001b[38;5;241m=\u001b[39m np\u001b[38;5;241m.\u001b[39mmean(vision, axis\u001b[38;5;241m=\u001b[39m\u001b[38;5;241m2\u001b[39m)\n",
      "\u001b[1;31mKeyError\u001b[0m: 'vision'"
     ]
    }
   ],
   "source": [
    "from pathlib import Path\n",
    "from submission import Controller\n",
    "from cobar_miniproject.cobar_fly import CobarFly\n",
    "from cobar_miniproject import levels\n",
    "from flygym import SingleFlySimulation, Camera\n",
    "from tqdm import trange\n",
    "\n",
    "timestep = 1e-4\n",
    "debug = False\n",
    "level = 0\n",
    "seed = 1\n",
    "\n",
    "fly = CobarFly(\n",
    "    debug=debug,\n",
    "    enable_vision=False,\n",
    "    render_raw_vision=False,\n",
    ")\n",
    "\n",
    "if level <= 1:\n",
    "    arena = levels[level](fly=fly, seed=seed)\n",
    "else:\n",
    "    arena = levels[level](fly=fly, timestep=timestep, seed=seed)\n",
    "\n",
    "cam_params = {\"pos\": (0, 0, 80)}\n",
    "timestep = 1e-4\n",
    "\n",
    "cam = Camera(\n",
    "    attachment_point=arena.root_element.worldbody,\n",
    "    camera_name=\"camera_top_zoomout\",\n",
    "    targeted_fly_names=[fly.name],\n",
    "    camera_parameters=cam_params,\n",
    "    play_speed=0.2,\n",
    ")\n",
    "\n",
    "sim = SingleFlySimulation(\n",
    "    fly=fly,\n",
    "    cameras=[cam],\n",
    "    timestep=timestep,\n",
    "    arena=arena,\n",
    ")\n",
    "\n",
    "controller = Controller(timestep=timestep)\n",
    "\n",
    "# run cpg simulation\n",
    "obs, info = sim.reset()\n",
    "obs_hist = []\n",
    "info_hist = []\n",
    "\n",
    "max_steps = 3000\n",
    "\n",
    "for i in trange(max_steps):\n",
    "    # Get observations\n",
    "    obs, reward, terminated, truncated, info = sim.step(controller.get_actions(obs))\n",
    "    sim.render()\n",
    "    if controller.done_level(obs):\n",
    "        # finish the path integration level\n",
    "        break\n",
    "\n",
    "    #if not obs[\"vision_updated\"]:\n",
    "    if \"vision\" in obs:\n",
    "        del obs[\"vision\"]\n",
    "    if \"raw_vision\" in obs:\n",
    "        del obs[\"raw_vision\"]\n",
    "    obs_hist.append(obs)\n",
    "    info_hist.append(info)\n",
    "\n",
    "    if hasattr(controller, \"quit\") and controller.quit:\n",
    "        print(\"Simulation terminated by user.\")\n",
    "        break\n",
    "    if hasattr(arena, \"quit\") and arena.quit:\n",
    "        print(\"Target reached. Simulation terminated.\")\n",
    "        break\n",
    "\n",
    "# Save video\n",
    "save_path = Path(\"outputs\") / f\"level{level}_seed{seed}.mp4\"\n",
    "save_path.parent.mkdir(parents=True, exist_ok=True)\n",
    "cam.save_video(save_path, stabilization_time=0)"
   ]
  },
  {
   "cell_type": "code",
   "execution_count": 2,
   "metadata": {},
   "outputs": [
    {
     "name": "stdout",
     "output_type": "stream",
     "text": [
      "[[0.00107015 0.00105766 0.00104082 0.00103742]\n",
      " [0.         0.         0.         0.        ]]\n"
     ]
    },
    {
     "data": {
      "text/plain": [
       "[<matplotlib.lines.Line2D at 0x1e2964032f0>]"
      ]
     },
     "execution_count": 2,
     "metadata": {},
     "output_type": "execute_result"
    },
    {
     "data": {
      "image/png": "[encoded data removed]",
      "text/plain": [
       "<Figure size 640x480 with 1 Axes>"
      ]
     },
     "metadata": {},
     "output_type": "display_data"
    }
   ],
   "source": [
    "#plot of the odor intensity \n",
    "import matplotlib.pyplot as plt\n",
    "import numpy as np\n",
    "\n",
    "print(obs_hist[0][\"odor_intensity\"])    \n",
    "\n",
    "\n",
    "     \n",
    "odor_left = [((obs[\"odor_intensity\"][0][0] + obs[\"odor_intensity\"][0][2]))/2 for obs in obs_hist]\n",
    "odor_right = [((obs[\"odor_intensity\"][0][1] + obs[\"odor_intensity\"][0][3]))/2 for obs in obs_hist]\n",
    "\n",
    "plt.plot(odor_left, label=\"Left Odor Intensity\")\n",
    "plt.plot(odor_right, label=\"Right Odor Intensity\")\n"
   ]
  }
 ],
 "metadata": {
  "kernelspec": {
   "display_name": "flygym",
   "language": "python",
   "name": "python3"
  },
  "language_info": {
   "codemirror_mode": {
    "name": "ipython",
    "version": 3
   },
   "file_extension": ".py",
   "mimetype": "text/x-python",
   "name": "python",
   "nbconvert_exporter": "python",
   "pygments_lexer": "ipython3",
   "version": "3.12.9"
  }
 },
 "nbformat": 4,
 "nbformat_minor": 2
}
